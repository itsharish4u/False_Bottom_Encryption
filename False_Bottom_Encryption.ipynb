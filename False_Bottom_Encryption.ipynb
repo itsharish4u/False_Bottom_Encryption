{
 "cells": [
  {
   "cell_type": "code",
   "execution_count": 35,
   "metadata": {},
   "outputs": [],
   "source": [
    "import random\n",
    "from operator import itemgetter\n",
    "import numpy as np\n",
    "import ast\n",
    "import math                        \n",
    "p=9973                             \n",
    "def modInverse(a, b):\n",
    "    for j in range(1, b):\n",
    "        if (((a%b) * (j%b)) % b == 1):\n",
    "            return j\n",
    "    return -1\n",
    "b = p"
   ]
  },
  {
   "cell_type": "code",
   "execution_count": 4,
   "metadata": {},
   "outputs": [],
   "source": [
    "K=int(input(\"Choose the size of key (K): \"))"
   ]
  },
  {
   "cell_type": "code",
   "execution_count": 5,
   "metadata": {},
   "outputs": [
    {
     "name": "stdout",
     "output_type": "stream",
     "text": [
      "A fixed order in a vector (\u001b[1mr\u001b[0m=[r₁,r₂,...,rₖ])\u001b[0m is:  [0, 1, 2, 3, 4, 5, 6, 7, 8, 9, 10, 11]\n",
      "The key base (or master-key) elements (rᵢᵢ, . . . , rᵢₙᵢ) ∈ R are:  [29, 13, 15, 13, 29, 26, 21, 14, 3, 29, 26, 3]\n"
     ]
    }
   ],
   "source": [
    "r = range(K)                                          \n",
    "indices = [*r]\n",
    "print(\"A fixed order in a vector (\\033[1mr\\033[0m=[r\\u2081,r\\u2082,...,r\\u2096])\\033[0m is: \",indices)\n",
    "R = []                                                         \n",
    "for i in range(0,K):\n",
    "    n = random.randint(1,30)\n",
    "    R.append(n)\n",
    "print(\"The key base (or master-key) elements (r\\u1D62\\u1D62, . . . , r\\u1D62\\u2099\\u1D62) ∈ R are: \", R)"
   ]
  },
  {
   "cell_type": "code",
   "execution_count": 6,
   "metadata": {},
   "outputs": [
    {
     "name": "stdout",
     "output_type": "stream",
     "text": [
      "The values of empty ciphertext [\u001b[1mc\u001b[0m=α₁,....,αₖ] are : [7674, 7504, 5739, 6924, 7833, 361, 6923, 1659, 6440, 2373, 6216, 371]\n"
     ]
    }
   ],
   "source": [
    "C1=[]\n",
    "for i in range(0,random.randint(10,K)):\n",
    "    n=random.randint(1,p-1)\n",
    "    C1.append(n)\n",
    "print(\"The values of empty ciphertext [\\033[1mc\\033[0m=\\u03B1\\u2081,....,\\u03B1\\u2096] are :\",C1)"
   ]
  },
  {
   "cell_type": "code",
   "execution_count": 7,
   "metadata": {},
   "outputs": [],
   "source": [
    "message1= input(\"Enter the message you want to add: \")"
   ]
  },
  {
   "cell_type": "code",
   "execution_count": 8,
   "metadata": {},
   "outputs": [
    {
     "data": {
      "text/plain": [
       "[83, 101, 99, 114, 101, 116, 77, 101, 115, 115, 97, 103, 101]"
      ]
     },
     "execution_count": 8,
     "metadata": {},
     "output_type": "execute_result"
    }
   ],
   "source": [
    "message1_values = [ord(char) for char in message1 if char.isalpha()]\n",
    "message1_values"
   ]
  },
  {
   "cell_type": "code",
   "execution_count": 9,
   "metadata": {},
   "outputs": [
    {
     "name": "stdout",
     "output_type": "stream",
     "text": [
      "The Message values are: \n",
      "83 101 99 114 101 116 77 101 115 115 97 103 101 "
     ]
    }
   ],
   "source": [
    "print('The Message values are: ')\n",
    "for value in message1_values:\n",
    "    if value<p:\n",
    "        print(value,end=' ')\n",
    "    else:\n",
    "        print(\"Warning:The value of message must be less than p\") "
   ]
  },
  {
   "cell_type": "code",
   "execution_count": 10,
   "metadata": {},
   "outputs": [
    {
     "name": "stdout",
     "output_type": "stream",
     "text": [
      "The value of n₁ is: 9\n",
      "Assigning the indices to n₁ ([ρ₁₁,ρ₂₁,...,ρ₁ₙ₁]) as:  [1, 2, 3, 4, 5, 6, 8, 9, 10]\n",
      "The values [r₁₁,r₂₂,...,r₁ₙ₁] for Message (m₁) are:  [13, 15, 13, 29, 26, 21, 3, 29, 26]\n"
     ]
    }
   ],
   "source": [
    "n1=random.randint(2, K)                 \n",
    "print(\"The value of n\\u2081 is:\",n1)\n",
    "l1 = random.sample(range(K), n1)\n",
    "l1.sort()                         \n",
    "print(\"Assigning the indices to n\\u2081 ([\\u03C1\\u2081\\u2081,\\u03C1\\u2082\\u2081,...,\\u03C1\\u2081\\u2099\\u2081]) as: \",l1)\n",
    "Keys = [k for i, k in enumerate(R) if i in l1]\n",
    "print(\"The values [r\\u2081\\u2081,r\\u2082\\u2082,...,r\\u2081\\u2099\\u2081] for Message (m\\u2081) are: \", Keys)"
   ]
  },
  {
   "cell_type": "code",
   "execution_count": 11,
   "metadata": {},
   "outputs": [
    {
     "name": "stdout",
     "output_type": "stream",
     "text": [
      "The n₁-1 values of Alphas (α₁₁,....,α₁ⱼ) are : [7674, 5739, 6216, 6216, 6440, 371, 7833, 6923]\n"
     ]
    }
   ],
   "source": [
    "alpha_1j=random.choices(C1,k=n1-1)\n",
    "print(\"The n\\u2081-1 values of Alphas (\\u03B1\\u2081\\u2081,....,\\u03B1\\u2081\\u2C7C) are :\",alpha_1j)      "
   ]
  },
  {
   "cell_type": "code",
   "execution_count": 12,
   "metadata": {},
   "outputs": [],
   "source": [
    "c1_matrix=[0 for _ in range(len(message1_values))]\n",
    "alpha_1j_matrix=[[0 for _ in range(len(alpha_1j))] for _ in range(len(message1_values))]"
   ]
  },
  {
   "cell_type": "code",
   "execution_count": 13,
   "metadata": {},
   "outputs": [],
   "source": [
    "for i in range(len(message1_values)):\n",
    "    alpha_1j_matrix[i]=alpha_1j"
   ]
  },
  {
   "cell_type": "code",
   "execution_count": 14,
   "metadata": {},
   "outputs": [
    {
     "data": {
      "text/plain": [
       "[[7674, 5739, 6216, 6216, 6440, 371, 7833, 6923],\n",
       " [7674, 5739, 6216, 6216, 6440, 371, 7833, 6923],\n",
       " [7674, 5739, 6216, 6216, 6440, 371, 7833, 6923],\n",
       " [7674, 5739, 6216, 6216, 6440, 371, 7833, 6923],\n",
       " [7674, 5739, 6216, 6216, 6440, 371, 7833, 6923],\n",
       " [7674, 5739, 6216, 6216, 6440, 371, 7833, 6923],\n",
       " [7674, 5739, 6216, 6216, 6440, 371, 7833, 6923],\n",
       " [7674, 5739, 6216, 6216, 6440, 371, 7833, 6923],\n",
       " [7674, 5739, 6216, 6216, 6440, 371, 7833, 6923],\n",
       " [7674, 5739, 6216, 6216, 6440, 371, 7833, 6923],\n",
       " [7674, 5739, 6216, 6216, 6440, 371, 7833, 6923],\n",
       " [7674, 5739, 6216, 6216, 6440, 371, 7833, 6923],\n",
       " [7674, 5739, 6216, 6216, 6440, 371, 7833, 6923]]"
      ]
     },
     "execution_count": 14,
     "metadata": {},
     "output_type": "execute_result"
    }
   ],
   "source": [
    "alpha_1j_matrix"
   ]
  },
  {
   "cell_type": "code",
   "execution_count": 15,
   "metadata": {},
   "outputs": [
    {
     "data": {
      "text/plain": [
       "[[7674, 5739, 6216, 6216, 6440, 371, 7833, 6923, 6190],\n",
       " [7674, 5739, 6216, 6216, 6440, 371, 7833, 6923, 7725],\n",
       " [7674, 5739, 6216, 6216, 6440, 371, 7833, 6923, 3122],\n",
       " [7674, 5739, 6216, 6216, 6440, 371, 7833, 6923, 2739],\n",
       " [7674, 5739, 6216, 6216, 6440, 371, 7833, 6923, 7725],\n",
       " [7674, 5739, 6216, 6216, 6440, 371, 7833, 6923, 7342],\n",
       " [7674, 5739, 6216, 6216, 6440, 371, 7833, 6923, 2354],\n",
       " [7674, 5739, 6216, 6216, 6440, 371, 7833, 6923, 7725],\n",
       " [7674, 5739, 6216, 6216, 6440, 371, 7833, 6923, 54],\n",
       " [7674, 5739, 6216, 6216, 6440, 371, 7833, 6923, 54],\n",
       " [7674, 5739, 6216, 6216, 6440, 371, 7833, 6923, 8492],\n",
       " [7674, 5739, 6216, 6216, 6440, 371, 7833, 6923, 2355],\n",
       " [7674, 5739, 6216, 6216, 6440, 371, 7833, 6923, 7725]]"
      ]
     },
     "execution_count": 15,
     "metadata": {},
     "output_type": "execute_result"
    }
   ],
   "source": [
    "for i in range(len(message1_values)):\n",
    "    x1=[K*A1 for K,A1 in zip(Keys,alpha_1j_matrix[i])]    \n",
    "    g1=sum(x1)                                                \n",
    "    new_row=[0 for _ in range(len(alpha_1j))]                                  \n",
    "    new_row=alpha_1j_matrix[i]+[((modInverse(Keys[-1],b))*(message1_values[i]-g1))%p]       \n",
    "    c1_matrix[i]=new_row                                                   \n",
    "c1_matrix"
   ]
  },
  {
   "cell_type": "code",
   "execution_count": 16,
   "metadata": {},
   "outputs": [
    {
     "data": {
      "text/plain": [
       "[7674, 7504, 5739, 6924, 7833, 361, 6923, 1659, 6440, 2373, 6216, 371]"
      ]
     },
     "execution_count": 16,
     "metadata": {},
     "output_type": "execute_result"
    }
   ],
   "source": [
    "c=list(C1)\n",
    "c"
   ]
  },
  {
   "cell_type": "code",
   "execution_count": 17,
   "metadata": {},
   "outputs": [],
   "source": [
    "c_matrix=[c for _ in range(len(message1_values))]"
   ]
  },
  {
   "cell_type": "code",
   "execution_count": 18,
   "metadata": {},
   "outputs": [
    {
     "data": {
      "text/plain": [
       "[[7674, 7504, 5739, 6924, 7833, 361, 6923, 1659, 6440, 2373, 6216, 371],\n",
       " [7674, 7504, 5739, 6924, 7833, 361, 6923, 1659, 6440, 2373, 6216, 371],\n",
       " [7674, 7504, 5739, 6924, 7833, 361, 6923, 1659, 6440, 2373, 6216, 371],\n",
       " [7674, 7504, 5739, 6924, 7833, 361, 6923, 1659, 6440, 2373, 6216, 371],\n",
       " [7674, 7504, 5739, 6924, 7833, 361, 6923, 1659, 6440, 2373, 6216, 371],\n",
       " [7674, 7504, 5739, 6924, 7833, 361, 6923, 1659, 6440, 2373, 6216, 371],\n",
       " [7674, 7504, 5739, 6924, 7833, 361, 6923, 1659, 6440, 2373, 6216, 371],\n",
       " [7674, 7504, 5739, 6924, 7833, 361, 6923, 1659, 6440, 2373, 6216, 371],\n",
       " [7674, 7504, 5739, 6924, 7833, 361, 6923, 1659, 6440, 2373, 6216, 371],\n",
       " [7674, 7504, 5739, 6924, 7833, 361, 6923, 1659, 6440, 2373, 6216, 371],\n",
       " [7674, 7504, 5739, 6924, 7833, 361, 6923, 1659, 6440, 2373, 6216, 371],\n",
       " [7674, 7504, 5739, 6924, 7833, 361, 6923, 1659, 6440, 2373, 6216, 371],\n",
       " [7674, 7504, 5739, 6924, 7833, 361, 6923, 1659, 6440, 2373, 6216, 371]]"
      ]
     },
     "execution_count": 18,
     "metadata": {},
     "output_type": "execute_result"
    }
   ],
   "source": [
    "c_matrix"
   ]
  },
  {
   "cell_type": "code",
   "execution_count": 19,
   "metadata": {},
   "outputs": [
    {
     "name": "stdout",
     "output_type": "stream",
     "text": [
      "The Updated Ciphertext (\u001b[1mC\u001b[0m) is: \n",
      " [7674, 7504, 5739, 6924, 7833, 361, 6923, 1659, 6440, 2373, 6216, 371, 6190]\n",
      "The Updated Ciphertext (\u001b[1mC\u001b[0m) is: \n",
      " [7674, 7504, 5739, 6924, 7833, 361, 6923, 1659, 6440, 2373, 6216, 371, 7725]\n",
      "The Updated Ciphertext (\u001b[1mC\u001b[0m) is: \n",
      " [7674, 7504, 5739, 6924, 7833, 361, 6923, 1659, 6440, 2373, 6216, 371, 3122]\n",
      "The Updated Ciphertext (\u001b[1mC\u001b[0m) is: \n",
      " [7674, 7504, 5739, 6924, 7833, 361, 6923, 1659, 6440, 2373, 6216, 371, 2739]\n",
      "The Updated Ciphertext (\u001b[1mC\u001b[0m) is: \n",
      " [7674, 7504, 5739, 6924, 7833, 361, 6923, 1659, 6440, 2373, 6216, 371, 7725]\n",
      "The Updated Ciphertext (\u001b[1mC\u001b[0m) is: \n",
      " [7674, 7504, 5739, 6924, 7833, 361, 6923, 1659, 6440, 2373, 6216, 371, 7342]\n",
      "The Updated Ciphertext (\u001b[1mC\u001b[0m) is: \n",
      " [7674, 7504, 5739, 6924, 7833, 361, 6923, 1659, 6440, 2373, 6216, 371, 2354]\n",
      "The Updated Ciphertext (\u001b[1mC\u001b[0m) is: \n",
      " [7674, 7504, 5739, 6924, 7833, 361, 6923, 1659, 6440, 2373, 6216, 371, 7725]\n",
      "The Updated Ciphertext (\u001b[1mC\u001b[0m) is: \n",
      " [7674, 7504, 5739, 6924, 7833, 361, 6923, 1659, 6440, 2373, 6216, 371, 54]\n",
      "The Updated Ciphertext (\u001b[1mC\u001b[0m) is: \n",
      " [7674, 7504, 5739, 6924, 7833, 361, 6923, 1659, 6440, 2373, 6216, 371, 54]\n",
      "The Updated Ciphertext (\u001b[1mC\u001b[0m) is: \n",
      " [7674, 7504, 5739, 6924, 7833, 361, 6923, 1659, 6440, 2373, 6216, 371, 8492]\n",
      "The Updated Ciphertext (\u001b[1mC\u001b[0m) is: \n",
      " [7674, 7504, 5739, 6924, 7833, 361, 6923, 1659, 6440, 2373, 6216, 371, 2355]\n",
      "The Updated Ciphertext (\u001b[1mC\u001b[0m) is: \n",
      " [7674, 7504, 5739, 6924, 7833, 361, 6923, 1659, 6440, 2373, 6216, 371, 7725]\n"
     ]
    }
   ],
   "source": [
    "for j in range(len(message1_values)):\n",
    "    new_row=[0 for _ in range(len(c1_matrix[0]))]\n",
    "    new_row=c_matrix[j]+[y for y in c1_matrix[j] if y not in c_matrix[j]]\n",
    "    c_matrix[j]=new_row\n",
    "for d in range(len(c_matrix)):\n",
    "    print(\"The Updated Ciphertext (\\033[1mC\\033[0m) is: \\n\", c_matrix[d]) "
   ]
  },
  {
   "cell_type": "markdown",
   "metadata": {},
   "source": [
    "The secret key as the list of pairs sknew := ((ji,1, ρi,1), . . . , (ji,ni−1, ρi,ni−1), (dim(c)+1, ρi,ni ))\n",
    "\n",
    "<h3>Decryption key sk1 for message m1</h3>"
   ]
  },
  {
   "cell_type": "code",
   "execution_count": 20,
   "metadata": {},
   "outputs": [
    {
     "data": {
      "text/plain": [
       "[[7674, 5739, 6216, 6216, 6440, 371, 7833, 6923, 6190],\n",
       " [7674, 5739, 6216, 6216, 6440, 371, 7833, 6923, 7725],\n",
       " [7674, 5739, 6216, 6216, 6440, 371, 7833, 6923, 3122],\n",
       " [7674, 5739, 6216, 6216, 6440, 371, 7833, 6923, 2739],\n",
       " [7674, 5739, 6216, 6216, 6440, 371, 7833, 6923, 7725],\n",
       " [7674, 5739, 6216, 6216, 6440, 371, 7833, 6923, 7342],\n",
       " [7674, 5739, 6216, 6216, 6440, 371, 7833, 6923, 2354],\n",
       " [7674, 5739, 6216, 6216, 6440, 371, 7833, 6923, 7725],\n",
       " [7674, 5739, 6216, 6216, 6440, 371, 7833, 6923, 54],\n",
       " [7674, 5739, 6216, 6216, 6440, 371, 7833, 6923, 54],\n",
       " [7674, 5739, 6216, 6216, 6440, 371, 7833, 6923, 8492],\n",
       " [7674, 5739, 6216, 6216, 6440, 371, 7833, 6923, 2355],\n",
       " [7674, 5739, 6216, 6216, 6440, 371, 7833, 6923, 7725]]"
      ]
     },
     "execution_count": 20,
     "metadata": {},
     "output_type": "execute_result"
    }
   ],
   "source": [
    "c1_matrix"
   ]
  },
  {
   "cell_type": "code",
   "execution_count": 21,
   "metadata": {},
   "outputs": [
    {
     "name": "stdout",
     "output_type": "stream",
     "text": [
      "The Ciphertext indices for Message is: [0, 2, 10, 10, 8, 11, 4, 6, 12]\n",
      "The Ciphertext indices for Message is: [0, 2, 10, 10, 8, 11, 4, 6, 12]\n",
      "The Ciphertext indices for Message is: [0, 2, 10, 10, 8, 11, 4, 6, 12]\n",
      "The Ciphertext indices for Message is: [0, 2, 10, 10, 8, 11, 4, 6, 12]\n",
      "The Ciphertext indices for Message is: [0, 2, 10, 10, 8, 11, 4, 6, 12]\n",
      "The Ciphertext indices for Message is: [0, 2, 10, 10, 8, 11, 4, 6, 12]\n",
      "The Ciphertext indices for Message is: [0, 2, 10, 10, 8, 11, 4, 6, 12]\n",
      "The Ciphertext indices for Message is: [0, 2, 10, 10, 8, 11, 4, 6, 12]\n",
      "The Ciphertext indices for Message is: [0, 2, 10, 10, 8, 11, 4, 6, 12]\n",
      "The Ciphertext indices for Message is: [0, 2, 10, 10, 8, 11, 4, 6, 12]\n",
      "The Ciphertext indices for Message is: [0, 2, 10, 10, 8, 11, 4, 6, 12]\n",
      "The Ciphertext indices for Message is: [0, 2, 10, 10, 8, 11, 4, 6, 12]\n",
      "The Ciphertext indices for Message is: [0, 2, 10, 10, 8, 11, 4, 6, 12]\n"
     ]
    }
   ],
   "source": [
    "for a in range(len(message1_values)):\n",
    "    c1_matrix[a] = [c_matrix[a].index(d) for d in c1_matrix[a]]                                 \n",
    "for d in range(len(c1_matrix)):\n",
    "    print(\"The Ciphertext indices for Message is: \" + str(c1_matrix[d]))"
   ]
  },
  {
   "cell_type": "code",
   "execution_count": 22,
   "metadata": {},
   "outputs": [
    {
     "name": "stdout",
     "output_type": "stream",
     "text": [
      "The Key indices  for Message is:  [1, 2, 3, 4, 5, 6, 8, 9, 10]\n"
     ]
    }
   ],
   "source": [
    "print(\"The Key indices  for Message is: \",l1)"
   ]
  },
  {
   "cell_type": "code",
   "execution_count": 23,
   "metadata": {},
   "outputs": [
    {
     "name": "stdout",
     "output_type": "stream",
     "text": [
      "Decryption Key (sk₁) for Message (m₁) are:  [(0, 1), (2, 2), (10, 3), (10, 4), (8, 5), (11, 6), (4, 8), (6, 9), (12, 10)]\n",
      "Decryption Key (sk₁) for Message (m₁) are:  [(0, 1), (2, 2), (10, 3), (10, 4), (8, 5), (11, 6), (4, 8), (6, 9), (12, 10)]\n",
      "Decryption Key (sk₁) for Message (m₁) are:  [(0, 1), (2, 2), (10, 3), (10, 4), (8, 5), (11, 6), (4, 8), (6, 9), (12, 10)]\n",
      "Decryption Key (sk₁) for Message (m₁) are:  [(0, 1), (2, 2), (10, 3), (10, 4), (8, 5), (11, 6), (4, 8), (6, 9), (12, 10)]\n",
      "Decryption Key (sk₁) for Message (m₁) are:  [(0, 1), (2, 2), (10, 3), (10, 4), (8, 5), (11, 6), (4, 8), (6, 9), (12, 10)]\n",
      "Decryption Key (sk₁) for Message (m₁) are:  [(0, 1), (2, 2), (10, 3), (10, 4), (8, 5), (11, 6), (4, 8), (6, 9), (12, 10)]\n",
      "Decryption Key (sk₁) for Message (m₁) are:  [(0, 1), (2, 2), (10, 3), (10, 4), (8, 5), (11, 6), (4, 8), (6, 9), (12, 10)]\n",
      "Decryption Key (sk₁) for Message (m₁) are:  [(0, 1), (2, 2), (10, 3), (10, 4), (8, 5), (11, 6), (4, 8), (6, 9), (12, 10)]\n",
      "Decryption Key (sk₁) for Message (m₁) are:  [(0, 1), (2, 2), (10, 3), (10, 4), (8, 5), (11, 6), (4, 8), (6, 9), (12, 10)]\n",
      "Decryption Key (sk₁) for Message (m₁) are:  [(0, 1), (2, 2), (10, 3), (10, 4), (8, 5), (11, 6), (4, 8), (6, 9), (12, 10)]\n",
      "Decryption Key (sk₁) for Message (m₁) are:  [(0, 1), (2, 2), (10, 3), (10, 4), (8, 5), (11, 6), (4, 8), (6, 9), (12, 10)]\n",
      "Decryption Key (sk₁) for Message (m₁) are:  [(0, 1), (2, 2), (10, 3), (10, 4), (8, 5), (11, 6), (4, 8), (6, 9), (12, 10)]\n",
      "Decryption Key (sk₁) for Message (m₁) are:  [(0, 1), (2, 2), (10, 3), (10, 4), (8, 5), (11, 6), (4, 8), (6, 9), (12, 10)]\n"
     ]
    }
   ],
   "source": [
    "def listOfTuples(c1, l):\n",
    "    return list(map(lambda x, y:(x,y), c1, l))\n",
    "for d in range(len(message1_values)):\n",
    "    print(\"Decryption Key (sk\\u2081) for Message (m\\u2081) are: \",listOfTuples(c1_matrix[d],l1))"
   ]
  },
  {
   "cell_type": "markdown",
   "metadata": {},
   "source": [
    "Adding the second message"
   ]
  },
  {
   "cell_type": "code",
   "execution_count": 24,
   "metadata": {},
   "outputs": [],
   "source": [
    "message2= input(\"Enter the message you want to add: \")"
   ]
  },
  {
   "cell_type": "code",
   "execution_count": 25,
   "metadata": {},
   "outputs": [
    {
     "data": {
      "text/plain": [
       "[65, 99, 116, 117, 97, 108, 83, 101, 99, 114, 101, 116]"
      ]
     },
     "execution_count": 25,
     "metadata": {},
     "output_type": "execute_result"
    }
   ],
   "source": [
    "message2_values = [ord(char) for char in message2 if char.isalpha()]\n",
    "message2_values"
   ]
  },
  {
   "cell_type": "code",
   "execution_count": 26,
   "metadata": {},
   "outputs": [
    {
     "name": "stdout",
     "output_type": "stream",
     "text": [
      "The Message values are: \n",
      "65 99 116 117 97 108 83 101 99 114 101 116 "
     ]
    }
   ],
   "source": [
    "print('The Message values are: ')\n",
    "for value1 in message2_values:\n",
    "    if value1<p:\n",
    "        print(value1,end=' ')\n",
    "    else:\n",
    "        print(\"Warning:The value of message must be less than p\")     "
   ]
  },
  {
   "cell_type": "code",
   "execution_count": 27,
   "metadata": {},
   "outputs": [
    {
     "name": "stdout",
     "output_type": "stream",
     "text": [
      "The value of n₁ is: 12\n",
      "Assigning the indices to n₁ ([ρ₁₁,ρ₂₁,...,ρ₁ₙ₁]) as:  [0, 1, 2, 3, 4, 5, 6, 7, 8, 9, 10, 11]\n",
      "The values [r₁₁,r₂₂,...,r₁ₙ₁] for Message (m₁) are:  [29, 13, 15, 13, 29, 26, 21, 14, 3, 29, 26, 3]\n"
     ]
    }
   ],
   "source": [
    "n2=random.randint(2, K)                  \n",
    "print(\"The value of n\\u2081 is:\",n2)\n",
    "l2 = random.sample(range(K), n2)\n",
    "l2.sort()                         \n",
    "print(\"Assigning the indices to n\\u2081 ([\\u03C1\\u2081\\u2081,\\u03C1\\u2082\\u2081,...,\\u03C1\\u2081\\u2099\\u2081]) as: \",l2)\n",
    "Keys = [k for i, k in enumerate(R) if i in l2]\n",
    "print(\"The values [r\\u2081\\u2081,r\\u2082\\u2082,...,r\\u2081\\u2099\\u2081] for Message (m\\u2081) are: \", Keys)"
   ]
  },
  {
   "cell_type": "code",
   "execution_count": 28,
   "metadata": {},
   "outputs": [
    {
     "name": "stdout",
     "output_type": "stream",
     "text": [
      "The n₁-1 values of Alphas (α₁₁,....,α₁ⱼ) are : [7504, 361, 6923, 5739, 7674, 2373, 7674, 1659, 6923, 7504, 6923]\n"
     ]
    }
   ],
   "source": [
    "\n",
    "alpha_2j=random.choices(C1,k=n2-1)\n",
    "print(\"The n\\u2081-1 values of Alphas (\\u03B1\\u2081\\u2081,....,\\u03B1\\u2081\\u2C7C) are :\",alpha_2j)"
   ]
  },
  {
   "cell_type": "code",
   "execution_count": 29,
   "metadata": {},
   "outputs": [],
   "source": [
    "# c1_matrix=[[0 for _ in range(K)] for _ in range(len(message1_values))]\n",
    "c2_matrix=[0 for _ in range(len(message2_values))]\n",
    "# alpha_1j_matrix=[0 for _ in range(len(message1_values))]\n",
    "alpha_2j_matrix=[[0 for _ in range(len(alpha_2j))] for _ in range(len(message2_values))]"
   ]
  },
  {
   "cell_type": "code",
   "execution_count": 30,
   "metadata": {},
   "outputs": [],
   "source": [
    "for i in range(len(message2_values)):\n",
    "    alpha_2j_matrix[i]=alpha_2j"
   ]
  },
  {
   "cell_type": "code",
   "execution_count": 31,
   "metadata": {},
   "outputs": [
    {
     "data": {
      "text/plain": [
       "[[7504, 361, 6923, 5739, 7674, 2373, 7674, 1659, 6923, 7504, 6923],\n",
       " [7504, 361, 6923, 5739, 7674, 2373, 7674, 1659, 6923, 7504, 6923],\n",
       " [7504, 361, 6923, 5739, 7674, 2373, 7674, 1659, 6923, 7504, 6923],\n",
       " [7504, 361, 6923, 5739, 7674, 2373, 7674, 1659, 6923, 7504, 6923],\n",
       " [7504, 361, 6923, 5739, 7674, 2373, 7674, 1659, 6923, 7504, 6923],\n",
       " [7504, 361, 6923, 5739, 7674, 2373, 7674, 1659, 6923, 7504, 6923],\n",
       " [7504, 361, 6923, 5739, 7674, 2373, 7674, 1659, 6923, 7504, 6923],\n",
       " [7504, 361, 6923, 5739, 7674, 2373, 7674, 1659, 6923, 7504, 6923],\n",
       " [7504, 361, 6923, 5739, 7674, 2373, 7674, 1659, 6923, 7504, 6923],\n",
       " [7504, 361, 6923, 5739, 7674, 2373, 7674, 1659, 6923, 7504, 6923],\n",
       " [7504, 361, 6923, 5739, 7674, 2373, 7674, 1659, 6923, 7504, 6923],\n",
       " [7504, 361, 6923, 5739, 7674, 2373, 7674, 1659, 6923, 7504, 6923]]"
      ]
     },
     "execution_count": 31,
     "metadata": {},
     "output_type": "execute_result"
    }
   ],
   "source": [
    "alpha_2j_matrix"
   ]
  },
  {
   "cell_type": "code",
   "execution_count": 36,
   "metadata": {},
   "outputs": [
    {
     "data": {
      "text/plain": [
       "[[7504, 361, 6923, 5739, 7674, 2373, 7674, 1659, 6923, 7504, 6923, 2929],\n",
       " [7504, 361, 6923, 5739, 7674, 2373, 7674, 1659, 6923, 7504, 6923, 9589],\n",
       " [7504, 361, 6923, 5739, 7674, 2373, 7674, 1659, 6923, 7504, 6923, 2946],\n",
       " [7504, 361, 6923, 5739, 7674, 2373, 7674, 1659, 6923, 7504, 6923, 9595],\n",
       " [7504, 361, 6923, 5739, 7674, 2373, 7674, 1659, 6923, 7504, 6923, 6264],\n",
       " [7504, 361, 6923, 5739, 7674, 2373, 7674, 1659, 6923, 7504, 6923, 9592],\n",
       " [7504, 361, 6923, 5739, 7674, 2373, 7674, 1659, 6923, 7504, 6923, 2935],\n",
       " [7504, 361, 6923, 5739, 7674, 2373, 7674, 1659, 6923, 7504, 6923, 2941],\n",
       " [7504, 361, 6923, 5739, 7674, 2373, 7674, 1659, 6923, 7504, 6923, 9589],\n",
       " [7504, 361, 6923, 5739, 7674, 2373, 7674, 1659, 6923, 7504, 6923, 9594],\n",
       " [7504, 361, 6923, 5739, 7674, 2373, 7674, 1659, 6923, 7504, 6923, 2941],\n",
       " [7504, 361, 6923, 5739, 7674, 2373, 7674, 1659, 6923, 7504, 6923, 2946]]"
      ]
     },
     "execution_count": 36,
     "metadata": {},
     "output_type": "execute_result"
    }
   ],
   "source": [
    "for i in range(len(message2_values)):\n",
    "    x2=[K*A1 for K,A1 in zip(Keys,alpha_2j_matrix[i])]   \n",
    "    g2=sum(x2)                                               \n",
    "    new_row=[0 for _ in range(len(alpha_2j))]                                  \n",
    "    new_row=alpha_2j_matrix[i]+[((modInverse(Keys[-1],b))*(message2_values[i]-g2))%p]     \n",
    "    c2_matrix[i]=new_row                                                   \n",
    "c2_matrix"
   ]
  },
  {
   "cell_type": "code",
   "execution_count": 37,
   "metadata": {},
   "outputs": [],
   "source": [
    "c1=list(c_matrix)"
   ]
  },
  {
   "cell_type": "code",
   "execution_count": 38,
   "metadata": {},
   "outputs": [
    {
     "data": {
      "text/plain": [
       "[[7674, 7504, 5739, 6924, 7833, 361, 6923, 1659, 6440, 2373, 6216, 371, 6190],\n",
       " [7674, 7504, 5739, 6924, 7833, 361, 6923, 1659, 6440, 2373, 6216, 371, 7725],\n",
       " [7674, 7504, 5739, 6924, 7833, 361, 6923, 1659, 6440, 2373, 6216, 371, 3122],\n",
       " [7674, 7504, 5739, 6924, 7833, 361, 6923, 1659, 6440, 2373, 6216, 371, 2739],\n",
       " [7674, 7504, 5739, 6924, 7833, 361, 6923, 1659, 6440, 2373, 6216, 371, 7725],\n",
       " [7674, 7504, 5739, 6924, 7833, 361, 6923, 1659, 6440, 2373, 6216, 371, 7342],\n",
       " [7674, 7504, 5739, 6924, 7833, 361, 6923, 1659, 6440, 2373, 6216, 371, 2354],\n",
       " [7674, 7504, 5739, 6924, 7833, 361, 6923, 1659, 6440, 2373, 6216, 371, 7725],\n",
       " [7674, 7504, 5739, 6924, 7833, 361, 6923, 1659, 6440, 2373, 6216, 371, 54],\n",
       " [7674, 7504, 5739, 6924, 7833, 361, 6923, 1659, 6440, 2373, 6216, 371, 54],\n",
       " [7674, 7504, 5739, 6924, 7833, 361, 6923, 1659, 6440, 2373, 6216, 371, 8492],\n",
       " [7674, 7504, 5739, 6924, 7833, 361, 6923, 1659, 6440, 2373, 6216, 371, 2355],\n",
       " [7674, 7504, 5739, 6924, 7833, 361, 6923, 1659, 6440, 2373, 6216, 371, 7725]]"
      ]
     },
     "execution_count": 38,
     "metadata": {},
     "output_type": "execute_result"
    }
   ],
   "source": [
    "c1"
   ]
  },
  {
   "cell_type": "code",
   "execution_count": 43,
   "metadata": {},
   "outputs": [],
   "source": [
    "c_matrix_1=c1"
   ]
  },
  {
   "cell_type": "code",
   "execution_count": 44,
   "metadata": {},
   "outputs": [
    {
     "data": {
      "text/plain": [
       "[[7674, 7504, 5739, 6924, 7833, 361, 6923, 1659, 6440, 2373, 6216, 371, 6190],\n",
       " [7674, 7504, 5739, 6924, 7833, 361, 6923, 1659, 6440, 2373, 6216, 371, 7725],\n",
       " [7674, 7504, 5739, 6924, 7833, 361, 6923, 1659, 6440, 2373, 6216, 371, 3122],\n",
       " [7674, 7504, 5739, 6924, 7833, 361, 6923, 1659, 6440, 2373, 6216, 371, 2739],\n",
       " [7674, 7504, 5739, 6924, 7833, 361, 6923, 1659, 6440, 2373, 6216, 371, 7725],\n",
       " [7674, 7504, 5739, 6924, 7833, 361, 6923, 1659, 6440, 2373, 6216, 371, 7342],\n",
       " [7674, 7504, 5739, 6924, 7833, 361, 6923, 1659, 6440, 2373, 6216, 371, 2354],\n",
       " [7674, 7504, 5739, 6924, 7833, 361, 6923, 1659, 6440, 2373, 6216, 371, 7725],\n",
       " [7674, 7504, 5739, 6924, 7833, 361, 6923, 1659, 6440, 2373, 6216, 371, 54],\n",
       " [7674, 7504, 5739, 6924, 7833, 361, 6923, 1659, 6440, 2373, 6216, 371, 54],\n",
       " [7674, 7504, 5739, 6924, 7833, 361, 6923, 1659, 6440, 2373, 6216, 371, 8492],\n",
       " [7674, 7504, 5739, 6924, 7833, 361, 6923, 1659, 6440, 2373, 6216, 371, 2355],\n",
       " [7674, 7504, 5739, 6924, 7833, 361, 6923, 1659, 6440, 2373, 6216, 371, 7725]]"
      ]
     },
     "execution_count": 44,
     "metadata": {},
     "output_type": "execute_result"
    }
   ],
   "source": [
    "c_matrix_1"
   ]
  },
  {
   "cell_type": "code",
   "execution_count": 45,
   "metadata": {},
   "outputs": [
    {
     "name": "stdout",
     "output_type": "stream",
     "text": [
      "The Updated Ciphertext (\u001b[1mC\u001b[0m) is: \n",
      " [7674, 7504, 5739, 6924, 7833, 361, 6923, 1659, 6440, 2373, 6216, 371, 6190, 2929]\n",
      "The Updated Ciphertext (\u001b[1mC\u001b[0m) is: \n",
      " [7674, 7504, 5739, 6924, 7833, 361, 6923, 1659, 6440, 2373, 6216, 371, 7725, 9589]\n",
      "The Updated Ciphertext (\u001b[1mC\u001b[0m) is: \n",
      " [7674, 7504, 5739, 6924, 7833, 361, 6923, 1659, 6440, 2373, 6216, 371, 3122, 2946]\n",
      "The Updated Ciphertext (\u001b[1mC\u001b[0m) is: \n",
      " [7674, 7504, 5739, 6924, 7833, 361, 6923, 1659, 6440, 2373, 6216, 371, 2739, 9595]\n",
      "The Updated Ciphertext (\u001b[1mC\u001b[0m) is: \n",
      " [7674, 7504, 5739, 6924, 7833, 361, 6923, 1659, 6440, 2373, 6216, 371, 7725, 6264]\n",
      "The Updated Ciphertext (\u001b[1mC\u001b[0m) is: \n",
      " [7674, 7504, 5739, 6924, 7833, 361, 6923, 1659, 6440, 2373, 6216, 371, 7342, 9592]\n",
      "The Updated Ciphertext (\u001b[1mC\u001b[0m) is: \n",
      " [7674, 7504, 5739, 6924, 7833, 361, 6923, 1659, 6440, 2373, 6216, 371, 2354, 2935]\n",
      "The Updated Ciphertext (\u001b[1mC\u001b[0m) is: \n",
      " [7674, 7504, 5739, 6924, 7833, 361, 6923, 1659, 6440, 2373, 6216, 371, 7725, 2941]\n",
      "The Updated Ciphertext (\u001b[1mC\u001b[0m) is: \n",
      " [7674, 7504, 5739, 6924, 7833, 361, 6923, 1659, 6440, 2373, 6216, 371, 54, 9589]\n",
      "The Updated Ciphertext (\u001b[1mC\u001b[0m) is: \n",
      " [7674, 7504, 5739, 6924, 7833, 361, 6923, 1659, 6440, 2373, 6216, 371, 54, 9594]\n",
      "The Updated Ciphertext (\u001b[1mC\u001b[0m) is: \n",
      " [7674, 7504, 5739, 6924, 7833, 361, 6923, 1659, 6440, 2373, 6216, 371, 8492, 2941]\n",
      "The Updated Ciphertext (\u001b[1mC\u001b[0m) is: \n",
      " [7674, 7504, 5739, 6924, 7833, 361, 6923, 1659, 6440, 2373, 6216, 371, 2355, 2946]\n",
      "The Updated Ciphertext (\u001b[1mC\u001b[0m) is: \n",
      " [7674, 7504, 5739, 6924, 7833, 361, 6923, 1659, 6440, 2373, 6216, 371, 7725]\n"
     ]
    }
   ],
   "source": [
    "for j in range(len(message2_values)):\n",
    "    new_row=[0 for _ in range(len(c2_matrix[0]))]\n",
    "    new_row=c_matrix_1[j]+[y for y in c2_matrix[j] if y not in c_matrix_1[j]]\n",
    "    c_matrix_1[j]=new_row\n",
    "for d in range(len(c_matrix_1)):\n",
    "    print(\"The Updated Ciphertext (\\033[1mC\\033[0m) is: \\n\", c_matrix_1[d])"
   ]
  },
  {
   "cell_type": "code",
   "execution_count": 46,
   "metadata": {},
   "outputs": [
    {
     "name": "stdout",
     "output_type": "stream",
     "text": [
      "The Ciphertext indices for Message is: [1, 5, 6, 2, 0, 9, 0, 7, 6, 1, 6, 13]\n",
      "The Ciphertext indices for Message is: [1, 5, 6, 2, 0, 9, 0, 7, 6, 1, 6, 13]\n",
      "The Ciphertext indices for Message is: [1, 5, 6, 2, 0, 9, 0, 7, 6, 1, 6, 13]\n",
      "The Ciphertext indices for Message is: [1, 5, 6, 2, 0, 9, 0, 7, 6, 1, 6, 13]\n",
      "The Ciphertext indices for Message is: [1, 5, 6, 2, 0, 9, 0, 7, 6, 1, 6, 13]\n",
      "The Ciphertext indices for Message is: [1, 5, 6, 2, 0, 9, 0, 7, 6, 1, 6, 13]\n",
      "The Ciphertext indices for Message is: [1, 5, 6, 2, 0, 9, 0, 7, 6, 1, 6, 13]\n",
      "The Ciphertext indices for Message is: [1, 5, 6, 2, 0, 9, 0, 7, 6, 1, 6, 13]\n",
      "The Ciphertext indices for Message is: [1, 5, 6, 2, 0, 9, 0, 7, 6, 1, 6, 13]\n",
      "The Ciphertext indices for Message is: [1, 5, 6, 2, 0, 9, 0, 7, 6, 1, 6, 13]\n",
      "The Ciphertext indices for Message is: [1, 5, 6, 2, 0, 9, 0, 7, 6, 1, 6, 13]\n",
      "The Ciphertext indices for Message is: [1, 5, 6, 2, 0, 9, 0, 7, 6, 1, 6, 13]\n"
     ]
    }
   ],
   "source": [
    "for a in range(len(message2_values)):\n",
    "    c2_matrix[a] = [c_matrix_1[a].index(d) for d in c2_matrix[a]]                                \n",
    "for d in range(len(c2_matrix)):\n",
    "    print(\"The Ciphertext indices for Message is: \" + str(c2_matrix[d]))"
   ]
  },
  {
   "cell_type": "code",
   "execution_count": 47,
   "metadata": {},
   "outputs": [
    {
     "name": "stdout",
     "output_type": "stream",
     "text": [
      "The Key indices  for Message is:  [0, 1, 2, 3, 4, 5, 6, 7, 8, 9, 10, 11]\n"
     ]
    }
   ],
   "source": [
    "print(\"The Key indices  for Message is: \",l2)"
   ]
  },
  {
   "cell_type": "code",
   "execution_count": 48,
   "metadata": {},
   "outputs": [
    {
     "name": "stdout",
     "output_type": "stream",
     "text": [
      "Decryption Key (sk₁) for Message (m₁) are:  [(1, 0), (5, 1), (6, 2), (2, 3), (0, 4), (9, 5), (0, 6), (7, 7), (6, 8), (1, 9), (6, 10), (13, 11)]\n",
      "Decryption Key (sk₁) for Message (m₁) are:  [(1, 0), (5, 1), (6, 2), (2, 3), (0, 4), (9, 5), (0, 6), (7, 7), (6, 8), (1, 9), (6, 10), (13, 11)]\n",
      "Decryption Key (sk₁) for Message (m₁) are:  [(1, 0), (5, 1), (6, 2), (2, 3), (0, 4), (9, 5), (0, 6), (7, 7), (6, 8), (1, 9), (6, 10), (13, 11)]\n",
      "Decryption Key (sk₁) for Message (m₁) are:  [(1, 0), (5, 1), (6, 2), (2, 3), (0, 4), (9, 5), (0, 6), (7, 7), (6, 8), (1, 9), (6, 10), (13, 11)]\n",
      "Decryption Key (sk₁) for Message (m₁) are:  [(1, 0), (5, 1), (6, 2), (2, 3), (0, 4), (9, 5), (0, 6), (7, 7), (6, 8), (1, 9), (6, 10), (13, 11)]\n",
      "Decryption Key (sk₁) for Message (m₁) are:  [(1, 0), (5, 1), (6, 2), (2, 3), (0, 4), (9, 5), (0, 6), (7, 7), (6, 8), (1, 9), (6, 10), (13, 11)]\n",
      "Decryption Key (sk₁) for Message (m₁) are:  [(1, 0), (5, 1), (6, 2), (2, 3), (0, 4), (9, 5), (0, 6), (7, 7), (6, 8), (1, 9), (6, 10), (13, 11)]\n",
      "Decryption Key (sk₁) for Message (m₁) are:  [(1, 0), (5, 1), (6, 2), (2, 3), (0, 4), (9, 5), (0, 6), (7, 7), (6, 8), (1, 9), (6, 10), (13, 11)]\n",
      "Decryption Key (sk₁) for Message (m₁) are:  [(1, 0), (5, 1), (6, 2), (2, 3), (0, 4), (9, 5), (0, 6), (7, 7), (6, 8), (1, 9), (6, 10), (13, 11)]\n",
      "Decryption Key (sk₁) for Message (m₁) are:  [(1, 0), (5, 1), (6, 2), (2, 3), (0, 4), (9, 5), (0, 6), (7, 7), (6, 8), (1, 9), (6, 10), (13, 11)]\n",
      "Decryption Key (sk₁) for Message (m₁) are:  [(1, 0), (5, 1), (6, 2), (2, 3), (0, 4), (9, 5), (0, 6), (7, 7), (6, 8), (1, 9), (6, 10), (13, 11)]\n",
      "Decryption Key (sk₁) for Message (m₁) are:  [(1, 0), (5, 1), (6, 2), (2, 3), (0, 4), (9, 5), (0, 6), (7, 7), (6, 8), (1, 9), (6, 10), (13, 11)]\n"
     ]
    }
   ],
   "source": [
    "def listOfTuples(c2, l1):\n",
    "    return list(map(lambda x, y:(x,y), c2, l1))\n",
    "for d in range(len(message2_values)):\n",
    "    print(\"Decryption Key (sk\\u2081) for Message (m\\u2081) are: \",listOfTuples(c2_matrix[d],l2))"
   ]
  },
  {
   "cell_type": "markdown",
   "metadata": {},
   "source": [
    "Adding i-th message to the existing ciphertext"
   ]
  },
  {
   "cell_type": "code",
   "execution_count": 49,
   "metadata": {},
   "outputs": [
    {
     "data": {
      "text/plain": [
       "[83, 101, 99, 114, 101, 116, 77, 101, 115, 115, 97, 103, 101]"
      ]
     },
     "execution_count": 49,
     "metadata": {},
     "output_type": "execute_result"
    }
   ],
   "source": [
    "messagei= input(\"Enter the message you want to add: \")\n",
    "messagei_values = [ord(char) for char in messagei if char.isalpha()]\n",
    "messagei_values"
   ]
  },
  {
   "cell_type": "code",
   "execution_count": 50,
   "metadata": {},
   "outputs": [
    {
     "name": "stdout",
     "output_type": "stream",
     "text": [
      "The Message values are: \n",
      "83 101 99 114 101 116 77 101 115 115 97 103 101 "
     ]
    }
   ],
   "source": [
    "print('The Message values are: ')\n",
    "for value2 in messagei_values:\n",
    "    if value2<p:\n",
    "        print(value2,end=' ')\n",
    "    else:\n",
    "        print(\"Warning:The value of message must be less than p\")"
   ]
  },
  {
   "cell_type": "code",
   "execution_count": 51,
   "metadata": {},
   "outputs": [
    {
     "name": "stdout",
     "output_type": "stream",
     "text": [
      "The value of nᵢ is: 6\n",
      "Assigning the indices to nᵢ ([ρᵢ₁,ρᵢ₂,...,ρᵢₙᵢ]) as:  [0, 4, 5, 6, 7, 10]\n",
      "The values [rᵢ₁,rᵢ₂,...,rᵢₙᵢ] for Message (mᵢ) are:  [29, 29, 26, 21, 14, 26]\n"
     ]
    }
   ],
   "source": [
    "ni=random.randint(2, K-1)                  \n",
    "print(\"The value of n\\u1D62 is:\",ni)\n",
    "l3 = random.sample(range(K-1), ni)\n",
    "l3.sort()                        \n",
    "print(\"Assigning the indices to n\\u1D62 ([\\u03C1\\u1D62\\u2081,\\u03C1\\u1D62\\u2082,...,\\u03C1\\u1D62\\u2099\\u1D62]) as: \",l3)\n",
    "Keys = [k for i, k in enumerate(R) if i in l3]\n",
    "print(\"The values [r\\u1D62\\u2081,r\\u1D62\\u2082,...,r\\u1D62\\u2099\\u1D62] for Message (m\\u1D62) are: \", Keys)"
   ]
  },
  {
   "cell_type": "code",
   "execution_count": 52,
   "metadata": {},
   "outputs": [
    {
     "name": "stdout",
     "output_type": "stream",
     "text": [
      "The n₁-1 values of Alphas (α₁₁,....,α₁ⱼ) are : [371, 371, 2373, 1659, 2373]\n"
     ]
    }
   ],
   "source": [
    "\n",
    "alpha_ij=random.choices(C1,k=ni-1)\n",
    "print(\"The n\\u2081-1 values of Alphas (\\u03B1\\u2081\\u2081,....,\\u03B1\\u2081\\u2C7C) are :\",alpha_ij)        \n"
   ]
  },
  {
   "cell_type": "code",
   "execution_count": 53,
   "metadata": {},
   "outputs": [],
   "source": [
    "# c1_matrix=[[0 for _ in range(K)] for _ in range(len(message1_values))]\n",
    "ci_matrix=[0 for _ in range(len(messagei_values))]\n",
    "# alpha_1j_matrix=[0 for _ in range(len(message1_values))]\n",
    "alpha_ij_matrix=[[0 for _ in range(len(alpha_ij))] for _ in range(len(messagei_values))]"
   ]
  },
  {
   "cell_type": "code",
   "execution_count": 54,
   "metadata": {},
   "outputs": [
    {
     "data": {
      "text/plain": [
       "[[371, 371, 2373, 1659, 2373],\n",
       " [371, 371, 2373, 1659, 2373],\n",
       " [371, 371, 2373, 1659, 2373],\n",
       " [371, 371, 2373, 1659, 2373],\n",
       " [371, 371, 2373, 1659, 2373],\n",
       " [371, 371, 2373, 1659, 2373],\n",
       " [371, 371, 2373, 1659, 2373],\n",
       " [371, 371, 2373, 1659, 2373],\n",
       " [371, 371, 2373, 1659, 2373],\n",
       " [371, 371, 2373, 1659, 2373],\n",
       " [371, 371, 2373, 1659, 2373],\n",
       " [371, 371, 2373, 1659, 2373],\n",
       " [371, 371, 2373, 1659, 2373]]"
      ]
     },
     "execution_count": 54,
     "metadata": {},
     "output_type": "execute_result"
    }
   ],
   "source": [
    "for i in range(len(messagei_values)):\n",
    "    alpha_ij_matrix[i]=alpha_ij\n",
    "alpha_ij_matrix"
   ]
  },
  {
   "cell_type": "code",
   "execution_count": 55,
   "metadata": {},
   "outputs": [
    {
     "data": {
      "text/plain": [
       "[[371, 371, 2373, 1659, 2373, 4925],\n",
       " [371, 371, 2373, 1659, 2373, 6460],\n",
       " [371, 371, 2373, 1659, 2373, 1857],\n",
       " [371, 371, 2373, 1659, 2373, 1474],\n",
       " [371, 371, 2373, 1659, 2373, 6460],\n",
       " [371, 371, 2373, 1659, 2373, 6077],\n",
       " [371, 371, 2373, 1659, 2373, 1089],\n",
       " [371, 371, 2373, 1659, 2373, 6460],\n",
       " [371, 371, 2373, 1659, 2373, 8762],\n",
       " [371, 371, 2373, 1659, 2373, 8762],\n",
       " [371, 371, 2373, 1659, 2373, 7227],\n",
       " [371, 371, 2373, 1659, 2373, 1090],\n",
       " [371, 371, 2373, 1659, 2373, 6460]]"
      ]
     },
     "execution_count": 55,
     "metadata": {},
     "output_type": "execute_result"
    }
   ],
   "source": [
    "for i in range(len(messagei_values)):\n",
    "    x3=[K*A1 for K,A1 in zip(Keys,alpha_ij_matrix[i])]    \n",
    "    g3=sum(x3)                                               \n",
    "    new_row=[0 for _ in range(len(alpha_ij))]                                  \n",
    "    new_row=alpha_ij_matrix[i]+[((modInverse(Keys[-1],b))*(messagei_values[i]-g3))%p]       \n",
    "    ci_matrix[i]=new_row                                                       \n",
    "ci_matrix"
   ]
  },
  {
   "cell_type": "code",
   "execution_count": 56,
   "metadata": {},
   "outputs": [],
   "source": [
    "ci=list(c_matrix_1)"
   ]
  },
  {
   "cell_type": "code",
   "execution_count": 57,
   "metadata": {},
   "outputs": [
    {
     "data": {
      "text/plain": [
       "[[7674,\n",
       "  7504,\n",
       "  5739,\n",
       "  6924,\n",
       "  7833,\n",
       "  361,\n",
       "  6923,\n",
       "  1659,\n",
       "  6440,\n",
       "  2373,\n",
       "  6216,\n",
       "  371,\n",
       "  6190,\n",
       "  2929],\n",
       " [7674,\n",
       "  7504,\n",
       "  5739,\n",
       "  6924,\n",
       "  7833,\n",
       "  361,\n",
       "  6923,\n",
       "  1659,\n",
       "  6440,\n",
       "  2373,\n",
       "  6216,\n",
       "  371,\n",
       "  7725,\n",
       "  9589],\n",
       " [7674,\n",
       "  7504,\n",
       "  5739,\n",
       "  6924,\n",
       "  7833,\n",
       "  361,\n",
       "  6923,\n",
       "  1659,\n",
       "  6440,\n",
       "  2373,\n",
       "  6216,\n",
       "  371,\n",
       "  3122,\n",
       "  2946],\n",
       " [7674,\n",
       "  7504,\n",
       "  5739,\n",
       "  6924,\n",
       "  7833,\n",
       "  361,\n",
       "  6923,\n",
       "  1659,\n",
       "  6440,\n",
       "  2373,\n",
       "  6216,\n",
       "  371,\n",
       "  2739,\n",
       "  9595],\n",
       " [7674,\n",
       "  7504,\n",
       "  5739,\n",
       "  6924,\n",
       "  7833,\n",
       "  361,\n",
       "  6923,\n",
       "  1659,\n",
       "  6440,\n",
       "  2373,\n",
       "  6216,\n",
       "  371,\n",
       "  7725,\n",
       "  6264],\n",
       " [7674,\n",
       "  7504,\n",
       "  5739,\n",
       "  6924,\n",
       "  7833,\n",
       "  361,\n",
       "  6923,\n",
       "  1659,\n",
       "  6440,\n",
       "  2373,\n",
       "  6216,\n",
       "  371,\n",
       "  7342,\n",
       "  9592],\n",
       " [7674,\n",
       "  7504,\n",
       "  5739,\n",
       "  6924,\n",
       "  7833,\n",
       "  361,\n",
       "  6923,\n",
       "  1659,\n",
       "  6440,\n",
       "  2373,\n",
       "  6216,\n",
       "  371,\n",
       "  2354,\n",
       "  2935],\n",
       " [7674,\n",
       "  7504,\n",
       "  5739,\n",
       "  6924,\n",
       "  7833,\n",
       "  361,\n",
       "  6923,\n",
       "  1659,\n",
       "  6440,\n",
       "  2373,\n",
       "  6216,\n",
       "  371,\n",
       "  7725,\n",
       "  2941],\n",
       " [7674,\n",
       "  7504,\n",
       "  5739,\n",
       "  6924,\n",
       "  7833,\n",
       "  361,\n",
       "  6923,\n",
       "  1659,\n",
       "  6440,\n",
       "  2373,\n",
       "  6216,\n",
       "  371,\n",
       "  54,\n",
       "  9589],\n",
       " [7674,\n",
       "  7504,\n",
       "  5739,\n",
       "  6924,\n",
       "  7833,\n",
       "  361,\n",
       "  6923,\n",
       "  1659,\n",
       "  6440,\n",
       "  2373,\n",
       "  6216,\n",
       "  371,\n",
       "  54,\n",
       "  9594],\n",
       " [7674,\n",
       "  7504,\n",
       "  5739,\n",
       "  6924,\n",
       "  7833,\n",
       "  361,\n",
       "  6923,\n",
       "  1659,\n",
       "  6440,\n",
       "  2373,\n",
       "  6216,\n",
       "  371,\n",
       "  8492,\n",
       "  2941],\n",
       " [7674,\n",
       "  7504,\n",
       "  5739,\n",
       "  6924,\n",
       "  7833,\n",
       "  361,\n",
       "  6923,\n",
       "  1659,\n",
       "  6440,\n",
       "  2373,\n",
       "  6216,\n",
       "  371,\n",
       "  2355,\n",
       "  2946],\n",
       " [7674, 7504, 5739, 6924, 7833, 361, 6923, 1659, 6440, 2373, 6216, 371, 7725]]"
      ]
     },
     "execution_count": 57,
     "metadata": {},
     "output_type": "execute_result"
    }
   ],
   "source": [
    "ci"
   ]
  },
  {
   "cell_type": "code",
   "execution_count": 58,
   "metadata": {},
   "outputs": [],
   "source": [
    "c_matrix_i=ci"
   ]
  },
  {
   "cell_type": "code",
   "execution_count": 59,
   "metadata": {},
   "outputs": [
    {
     "data": {
      "text/plain": [
       "[[7674,\n",
       "  7504,\n",
       "  5739,\n",
       "  6924,\n",
       "  7833,\n",
       "  361,\n",
       "  6923,\n",
       "  1659,\n",
       "  6440,\n",
       "  2373,\n",
       "  6216,\n",
       "  371,\n",
       "  6190,\n",
       "  2929],\n",
       " [7674,\n",
       "  7504,\n",
       "  5739,\n",
       "  6924,\n",
       "  7833,\n",
       "  361,\n",
       "  6923,\n",
       "  1659,\n",
       "  6440,\n",
       "  2373,\n",
       "  6216,\n",
       "  371,\n",
       "  7725,\n",
       "  9589],\n",
       " [7674,\n",
       "  7504,\n",
       "  5739,\n",
       "  6924,\n",
       "  7833,\n",
       "  361,\n",
       "  6923,\n",
       "  1659,\n",
       "  6440,\n",
       "  2373,\n",
       "  6216,\n",
       "  371,\n",
       "  3122,\n",
       "  2946],\n",
       " [7674,\n",
       "  7504,\n",
       "  5739,\n",
       "  6924,\n",
       "  7833,\n",
       "  361,\n",
       "  6923,\n",
       "  1659,\n",
       "  6440,\n",
       "  2373,\n",
       "  6216,\n",
       "  371,\n",
       "  2739,\n",
       "  9595],\n",
       " [7674,\n",
       "  7504,\n",
       "  5739,\n",
       "  6924,\n",
       "  7833,\n",
       "  361,\n",
       "  6923,\n",
       "  1659,\n",
       "  6440,\n",
       "  2373,\n",
       "  6216,\n",
       "  371,\n",
       "  7725,\n",
       "  6264],\n",
       " [7674,\n",
       "  7504,\n",
       "  5739,\n",
       "  6924,\n",
       "  7833,\n",
       "  361,\n",
       "  6923,\n",
       "  1659,\n",
       "  6440,\n",
       "  2373,\n",
       "  6216,\n",
       "  371,\n",
       "  7342,\n",
       "  9592],\n",
       " [7674,\n",
       "  7504,\n",
       "  5739,\n",
       "  6924,\n",
       "  7833,\n",
       "  361,\n",
       "  6923,\n",
       "  1659,\n",
       "  6440,\n",
       "  2373,\n",
       "  6216,\n",
       "  371,\n",
       "  2354,\n",
       "  2935],\n",
       " [7674,\n",
       "  7504,\n",
       "  5739,\n",
       "  6924,\n",
       "  7833,\n",
       "  361,\n",
       "  6923,\n",
       "  1659,\n",
       "  6440,\n",
       "  2373,\n",
       "  6216,\n",
       "  371,\n",
       "  7725,\n",
       "  2941],\n",
       " [7674,\n",
       "  7504,\n",
       "  5739,\n",
       "  6924,\n",
       "  7833,\n",
       "  361,\n",
       "  6923,\n",
       "  1659,\n",
       "  6440,\n",
       "  2373,\n",
       "  6216,\n",
       "  371,\n",
       "  54,\n",
       "  9589],\n",
       " [7674,\n",
       "  7504,\n",
       "  5739,\n",
       "  6924,\n",
       "  7833,\n",
       "  361,\n",
       "  6923,\n",
       "  1659,\n",
       "  6440,\n",
       "  2373,\n",
       "  6216,\n",
       "  371,\n",
       "  54,\n",
       "  9594],\n",
       " [7674,\n",
       "  7504,\n",
       "  5739,\n",
       "  6924,\n",
       "  7833,\n",
       "  361,\n",
       "  6923,\n",
       "  1659,\n",
       "  6440,\n",
       "  2373,\n",
       "  6216,\n",
       "  371,\n",
       "  8492,\n",
       "  2941],\n",
       " [7674,\n",
       "  7504,\n",
       "  5739,\n",
       "  6924,\n",
       "  7833,\n",
       "  361,\n",
       "  6923,\n",
       "  1659,\n",
       "  6440,\n",
       "  2373,\n",
       "  6216,\n",
       "  371,\n",
       "  2355,\n",
       "  2946],\n",
       " [7674, 7504, 5739, 6924, 7833, 361, 6923, 1659, 6440, 2373, 6216, 371, 7725]]"
      ]
     },
     "execution_count": 59,
     "metadata": {},
     "output_type": "execute_result"
    }
   ],
   "source": [
    "c_matrix_i"
   ]
  },
  {
   "cell_type": "code",
   "execution_count": 60,
   "metadata": {},
   "outputs": [
    {
     "name": "stdout",
     "output_type": "stream",
     "text": [
      "The Updated Ciphertext (\u001b[1mC\u001b[0m) is: \n",
      " [7674, 7504, 5739, 6924, 7833, 361, 6923, 1659, 6440, 2373, 6216, 371, 6190, 2929, 4925]\n",
      "The Updated Ciphertext (\u001b[1mC\u001b[0m) is: \n",
      " [7674, 7504, 5739, 6924, 7833, 361, 6923, 1659, 6440, 2373, 6216, 371, 7725, 9589, 6460]\n",
      "The Updated Ciphertext (\u001b[1mC\u001b[0m) is: \n",
      " [7674, 7504, 5739, 6924, 7833, 361, 6923, 1659, 6440, 2373, 6216, 371, 3122, 2946, 1857]\n",
      "The Updated Ciphertext (\u001b[1mC\u001b[0m) is: \n",
      " [7674, 7504, 5739, 6924, 7833, 361, 6923, 1659, 6440, 2373, 6216, 371, 2739, 9595, 1474]\n",
      "The Updated Ciphertext (\u001b[1mC\u001b[0m) is: \n",
      " [7674, 7504, 5739, 6924, 7833, 361, 6923, 1659, 6440, 2373, 6216, 371, 7725, 6264, 6460]\n",
      "The Updated Ciphertext (\u001b[1mC\u001b[0m) is: \n",
      " [7674, 7504, 5739, 6924, 7833, 361, 6923, 1659, 6440, 2373, 6216, 371, 7342, 9592, 6077]\n",
      "The Updated Ciphertext (\u001b[1mC\u001b[0m) is: \n",
      " [7674, 7504, 5739, 6924, 7833, 361, 6923, 1659, 6440, 2373, 6216, 371, 2354, 2935, 1089]\n",
      "The Updated Ciphertext (\u001b[1mC\u001b[0m) is: \n",
      " [7674, 7504, 5739, 6924, 7833, 361, 6923, 1659, 6440, 2373, 6216, 371, 7725, 2941, 6460]\n",
      "The Updated Ciphertext (\u001b[1mC\u001b[0m) is: \n",
      " [7674, 7504, 5739, 6924, 7833, 361, 6923, 1659, 6440, 2373, 6216, 371, 54, 9589, 8762]\n",
      "The Updated Ciphertext (\u001b[1mC\u001b[0m) is: \n",
      " [7674, 7504, 5739, 6924, 7833, 361, 6923, 1659, 6440, 2373, 6216, 371, 54, 9594, 8762]\n",
      "The Updated Ciphertext (\u001b[1mC\u001b[0m) is: \n",
      " [7674, 7504, 5739, 6924, 7833, 361, 6923, 1659, 6440, 2373, 6216, 371, 8492, 2941, 7227]\n",
      "The Updated Ciphertext (\u001b[1mC\u001b[0m) is: \n",
      " [7674, 7504, 5739, 6924, 7833, 361, 6923, 1659, 6440, 2373, 6216, 371, 2355, 2946, 1090]\n",
      "The Updated Ciphertext (\u001b[1mC\u001b[0m) is: \n",
      " [7674, 7504, 5739, 6924, 7833, 361, 6923, 1659, 6440, 2373, 6216, 371, 7725, 6460]\n"
     ]
    }
   ],
   "source": [
    "for j in range(len(messagei_values)):\n",
    "    new_row=[0 for _ in range(len(ci_matrix[0]))]\n",
    "    new_row=c_matrix_i[j]+[y for y in ci_matrix[j] if y not in c_matrix_i[j]]\n",
    "    c_matrix_i[j]=new_row\n",
    "for d in range(len(c_matrix_i)):\n",
    "    print(\"The Updated Ciphertext (\\033[1mC\\033[0m) is: \\n\", c_matrix_i[d]) "
   ]
  },
  {
   "cell_type": "code",
   "execution_count": 61,
   "metadata": {},
   "outputs": [
    {
     "name": "stdout",
     "output_type": "stream",
     "text": [
      "The Ciphertext indices for Message is: [11, 11, 9, 7, 9, 14]\n",
      "The Ciphertext indices for Message is: [11, 11, 9, 7, 9, 14]\n",
      "The Ciphertext indices for Message is: [11, 11, 9, 7, 9, 14]\n",
      "The Ciphertext indices for Message is: [11, 11, 9, 7, 9, 14]\n",
      "The Ciphertext indices for Message is: [11, 11, 9, 7, 9, 14]\n",
      "The Ciphertext indices for Message is: [11, 11, 9, 7, 9, 14]\n",
      "The Ciphertext indices for Message is: [11, 11, 9, 7, 9, 14]\n",
      "The Ciphertext indices for Message is: [11, 11, 9, 7, 9, 14]\n",
      "The Ciphertext indices for Message is: [11, 11, 9, 7, 9, 14]\n",
      "The Ciphertext indices for Message is: [11, 11, 9, 7, 9, 14]\n",
      "The Ciphertext indices for Message is: [11, 11, 9, 7, 9, 14]\n",
      "The Ciphertext indices for Message is: [11, 11, 9, 7, 9, 14]\n",
      "The Ciphertext indices for Message is: [11, 11, 9, 7, 9, 13]\n"
     ]
    }
   ],
   "source": [
    "for a in range(len(messagei_values)):\n",
    "    ci_matrix[a] = [c_matrix_i[a].index(d) for d in ci_matrix[a]]                                \n",
    "for d in range(len(ci_matrix)):\n",
    "    print(\"The Ciphertext indices for Message is: \" + str(ci_matrix[d]))"
   ]
  },
  {
   "cell_type": "code",
   "execution_count": 62,
   "metadata": {},
   "outputs": [
    {
     "name": "stdout",
     "output_type": "stream",
     "text": [
      "Decryption Key (sk₁) for Message (m₁) are:  [(11, 0), (11, 4), (9, 5), (7, 6), (9, 7), (14, 10)]\n",
      "Decryption Key (sk₁) for Message (m₁) are:  [(11, 0), (11, 4), (9, 5), (7, 6), (9, 7), (14, 10)]\n",
      "Decryption Key (sk₁) for Message (m₁) are:  [(11, 0), (11, 4), (9, 5), (7, 6), (9, 7), (14, 10)]\n",
      "Decryption Key (sk₁) for Message (m₁) are:  [(11, 0), (11, 4), (9, 5), (7, 6), (9, 7), (14, 10)]\n",
      "Decryption Key (sk₁) for Message (m₁) are:  [(11, 0), (11, 4), (9, 5), (7, 6), (9, 7), (14, 10)]\n",
      "Decryption Key (sk₁) for Message (m₁) are:  [(11, 0), (11, 4), (9, 5), (7, 6), (9, 7), (14, 10)]\n",
      "Decryption Key (sk₁) for Message (m₁) are:  [(11, 0), (11, 4), (9, 5), (7, 6), (9, 7), (14, 10)]\n",
      "Decryption Key (sk₁) for Message (m₁) are:  [(11, 0), (11, 4), (9, 5), (7, 6), (9, 7), (14, 10)]\n",
      "Decryption Key (sk₁) for Message (m₁) are:  [(11, 0), (11, 4), (9, 5), (7, 6), (9, 7), (14, 10)]\n",
      "Decryption Key (sk₁) for Message (m₁) are:  [(11, 0), (11, 4), (9, 5), (7, 6), (9, 7), (14, 10)]\n",
      "Decryption Key (sk₁) for Message (m₁) are:  [(11, 0), (11, 4), (9, 5), (7, 6), (9, 7), (14, 10)]\n",
      "Decryption Key (sk₁) for Message (m₁) are:  [(11, 0), (11, 4), (9, 5), (7, 6), (9, 7), (14, 10)]\n",
      "Decryption Key (sk₁) for Message (m₁) are:  [(11, 0), (11, 4), (9, 5), (7, 6), (9, 7), (13, 10)]\n"
     ]
    }
   ],
   "source": [
    "def listOfTuples(ci, l):\n",
    "    return list(map(lambda x, y:(x,y), ci, l))\n",
    "for d in range(len(messagei_values)):\n",
    "    print(\"Decryption Key (sk\\u2081) for Message (m\\u2081) are: \",listOfTuples(ci_matrix[d],l3))"
   ]
  },
  {
   "cell_type": "markdown",
   "metadata": {},
   "source": [
    "# C. DECRYPTION OF THE I-TH MESSAGE Mi ← DEC(C, SKi )"
   ]
  },
  {
   "cell_type": "code",
   "execution_count": 63,
   "metadata": {},
   "outputs": [
    {
     "name": "stdout",
     "output_type": "stream",
     "text": [
      "The Ciphertext (\u001b[1mC\u001b[0m) is:  [[7674, 7504, 5739, 6924, 7833, 361, 6923, 1659, 6440, 2373, 6216, 371, 6190, 2929, 4925], [7674, 7504, 5739, 6924, 7833, 361, 6923, 1659, 6440, 2373, 6216, 371, 7725, 9589, 6460], [7674, 7504, 5739, 6924, 7833, 361, 6923, 1659, 6440, 2373, 6216, 371, 3122, 2946, 1857], [7674, 7504, 5739, 6924, 7833, 361, 6923, 1659, 6440, 2373, 6216, 371, 2739, 9595, 1474], [7674, 7504, 5739, 6924, 7833, 361, 6923, 1659, 6440, 2373, 6216, 371, 7725, 6264, 6460], [7674, 7504, 5739, 6924, 7833, 361, 6923, 1659, 6440, 2373, 6216, 371, 7342, 9592, 6077], [7674, 7504, 5739, 6924, 7833, 361, 6923, 1659, 6440, 2373, 6216, 371, 2354, 2935, 1089], [7674, 7504, 5739, 6924, 7833, 361, 6923, 1659, 6440, 2373, 6216, 371, 7725, 2941, 6460], [7674, 7504, 5739, 6924, 7833, 361, 6923, 1659, 6440, 2373, 6216, 371, 54, 9589, 8762], [7674, 7504, 5739, 6924, 7833, 361, 6923, 1659, 6440, 2373, 6216, 371, 54, 9594, 8762], [7674, 7504, 5739, 6924, 7833, 361, 6923, 1659, 6440, 2373, 6216, 371, 8492, 2941, 7227], [7674, 7504, 5739, 6924, 7833, 361, 6923, 1659, 6440, 2373, 6216, 371, 2355, 2946, 1090], [7674, 7504, 5739, 6924, 7833, 361, 6923, 1659, 6440, 2373, 6216, 371, 7725, 6460]]\n"
     ]
    }
   ],
   "source": [
    "dec_c=[0 for i in range(len(c_matrix_i))]\n",
    "for i in range(len(c_matrix_i)):\n",
    "    dec_c[i]=list(map(int, ' '.join(str(x) for x in ast.literal_eval(input(\"Enter the list of ciphertext: \"))).split()))\n",
    "print(\"The Ciphertext (\\033[1mC\\033[0m) is: \", dec_c)"
   ]
  },
  {
   "cell_type": "code",
   "execution_count": 133,
   "metadata": {},
   "outputs": [
    {
     "data": {
      "text/plain": [
       "[[7202, 8523, 2916, 5561, 1745, 8738, 7587, 495, 4995, 4859, 5573, 6890, 4699],\n",
       " [7202, 8523, 2916, 5561, 1745, 8738, 7587, 495, 4995, 4859, 5573, 6890, 4717],\n",
       " [7202, 8523, 2916, 5561, 1745, 8738, 7587, 495, 4995, 4859, 5573, 6890, 4715],\n",
       " [7202, 8523, 2916, 5561, 1745, 8738, 7587, 495, 4995, 4859, 5573, 6890, 4730],\n",
       " [7202, 8523, 2916, 5561, 1745, 8738, 7587, 495, 4995, 4859, 5573, 6890, 4717],\n",
       " [7202, 8523, 2916, 5561, 1745, 8738, 7587, 495, 4995, 4859, 5573, 6890, 4732],\n",
       " [7202, 8523, 2916, 5561, 1745, 8738, 7587, 495, 4995, 4859, 5573, 6890, 4693],\n",
       " [7202, 8523, 2916, 5561, 1745, 8738, 7587, 495, 4995, 4859, 5573, 6890, 4717],\n",
       " [7202, 8523, 2916, 5561, 1745, 8738, 7587, 495, 4995, 4859, 5573, 6890, 4731],\n",
       " [7202, 8523, 2916, 5561, 1745, 8738, 7587, 495, 4995, 4859, 5573, 6890, 4731],\n",
       " [7202, 8523, 2916, 5561, 1745, 8738, 7587, 495, 4995, 4859, 5573, 6890, 4713],\n",
       " [7202, 8523, 2916, 5561, 1745, 8738, 7587, 495, 4995, 4859, 5573, 6890, 4719],\n",
       " [7202, 8523, 2916, 5561, 1745, 8738, 7587, 495, 4995, 4859, 5573, 6890, 4717]]"
      ]
     },
     "execution_count": 133,
     "metadata": {},
     "output_type": "execute_result"
    }
   ],
   "source": [
    "dec_c"
   ]
  },
  {
   "cell_type": "code",
   "execution_count": 64,
   "metadata": {},
   "outputs": [
    {
     "name": "stdout",
     "output_type": "stream",
     "text": [
      "Check your Decryption key: [(1, 0), (5, 1), (6, 2), (2, 3), (0, 4), (9, 5), (0, 6), (7, 7), (6, 8), (1, 9), (6, 10), (13, 11)]\n"
     ]
    }
   ],
   "source": [
    "sizeofkey = list(tuple(map(int,input().split())) for r in range(int(input('Enter the size of key (tuple) : '))))  \n",
    "print(\"Check your Decryption key:\",sizeofkey)"
   ]
  },
  {
   "cell_type": "code",
   "execution_count": 65,
   "metadata": {},
   "outputs": [],
   "source": [
    "cipher = [lis[-2] for lis in sizeofkey]\n",
    "key = [lis[-1] for lis in sizeofkey]"
   ]
  },
  {
   "cell_type": "code",
   "execution_count": 66,
   "metadata": {},
   "outputs": [
    {
     "name": "stdout",
     "output_type": "stream",
     "text": [
      "The Key values: [[29, 13, 15, 13, 29, 26, 21, 14, 3, 29, 26, 3], [29, 13, 15, 13, 29, 26, 21, 14, 3, 29, 26, 3], [29, 13, 15, 13, 29, 26, 21, 14, 3, 29, 26, 3], [29, 13, 15, 13, 29, 26, 21, 14, 3, 29, 26, 3], [29, 13, 15, 13, 29, 26, 21, 14, 3, 29, 26, 3], [29, 13, 15, 13, 29, 26, 21, 14, 3, 29, 26, 3], [29, 13, 15, 13, 29, 26, 21, 14, 3, 29, 26, 3], [29, 13, 15, 13, 29, 26, 21, 14, 3, 29, 26, 3], [29, 13, 15, 13, 29, 26, 21, 14, 3, 29, 26, 3], [29, 13, 15, 13, 29, 26, 21, 14, 3, 29, 26, 3], [29, 13, 15, 13, 29, 26, 21, 14, 3, 29, 26, 3], [29, 13, 15, 13, 29, 26, 21, 14, 3, 29, 26, 3], [29, 13, 15, 13, 29, 26, 21, 14, 3, 29, 26, 3]]\n"
     ]
    }
   ],
   "source": [
    "K_dec_li=[0 for i in range(len(c_matrix_i))]\n",
    "for j in range(len(message1_values)):\n",
    "    K_dec_li[j] = list(itemgetter(*key)(R))\n",
    "print(\"The Key values:\", K_dec_li)"
   ]
  },
  {
   "cell_type": "code",
   "execution_count": 67,
   "metadata": {},
   "outputs": [
    {
     "name": "stdout",
     "output_type": "stream",
     "text": [
      "The Ciphertext (\u001b[1mc\u001b[0m=[αᵢ₁,αᵢ₂,...,αᵢₙᵢ]): [[7504, 361, 6923, 5739, 7674, 2373, 7674, 1659, 6923, 7504, 6923, 2929], [7504, 361, 6923, 5739, 7674, 2373, 7674, 1659, 6923, 7504, 6923, 9589], [7504, 361, 6923, 5739, 7674, 2373, 7674, 1659, 6923, 7504, 6923, 2946], [7504, 361, 6923, 5739, 7674, 2373, 7674, 1659, 6923, 7504, 6923, 9595], [7504, 361, 6923, 5739, 7674, 2373, 7674, 1659, 6923, 7504, 6923, 6264], [7504, 361, 6923, 5739, 7674, 2373, 7674, 1659, 6923, 7504, 6923, 9592], [7504, 361, 6923, 5739, 7674, 2373, 7674, 1659, 6923, 7504, 6923, 2935], [7504, 361, 6923, 5739, 7674, 2373, 7674, 1659, 6923, 7504, 6923, 2941], [7504, 361, 6923, 5739, 7674, 2373, 7674, 1659, 6923, 7504, 6923, 9589], [7504, 361, 6923, 5739, 7674, 2373, 7674, 1659, 6923, 7504, 6923, 9594], [7504, 361, 6923, 5739, 7674, 2373, 7674, 1659, 6923, 7504, 6923, 2941], [7504, 361, 6923, 5739, 7674, 2373, 7674, 1659, 6923, 7504, 6923, 2946], [7504, 361, 6923, 5739, 7674, 2373, 7674, 1659, 6923, 7504, 6923, 6460]]\n"
     ]
    }
   ],
   "source": [
    "C_dec_li=[0 for i in range(len(c_matrix_i))]\n",
    "for j in range(len(message1_values)):\n",
    "    C_dec_li[j] = list(itemgetter(*cipher)(dec_c[j]))\n",
    "\n",
    "print(\"The Ciphertext (\\033[1mc\\033[0m=[\\u03B1\\u1D62\\u2081,\\u03B1\\u1D62\\u2082,...,\\u03B1\\u1D62\\u2099\\u1D62]):\", C_dec_li)\n"
   ]
  },
  {
   "cell_type": "code",
   "execution_count": 68,
   "metadata": {},
   "outputs": [
    {
     "name": "stdout",
     "output_type": "stream",
     "text": [
      "The desired message is: [65, 99, 116, 117, 97, 108, 83, 101, 99, 114, 101, 116, 685]\n"
     ]
    }
   ],
   "source": [
    "m_i_lis=[0 for i in range(len(c_matrix_i))]\n",
    "for j in range(len(c_matrix_i)):\n",
    "    m_i_lis[j]=(sum([elements*A for elements,A in zip(K_dec_li[j],C_dec_li[j])]))%p\n",
    "print(\"The desired message is:\",m_i_lis)"
   ]
  },
  {
   "cell_type": "code",
   "execution_count": 69,
   "metadata": {},
   "outputs": [
    {
     "name": "stdout",
     "output_type": "stream",
     "text": [
      "Converted string: ActualSecretʭ\n"
     ]
    }
   ],
   "source": [
    "result_string = ''.join(chr(value) for value in m_i_lis)\n",
    "print(\"Converted string:\", result_string)"
   ]
  },
  {
   "cell_type": "code",
   "execution_count": null,
   "metadata": {},
   "outputs": [],
   "source": []
  }
 ],
 "metadata": {
  "kernelspec": {
   "display_name": "Python 3",
   "language": "python",
   "name": "python3"
  },
  "language_info": {
   "codemirror_mode": {
    "name": "ipython",
    "version": 3
   },
   "file_extension": ".py",
   "mimetype": "text/x-python",
   "name": "python",
   "nbconvert_exporter": "python",
   "pygments_lexer": "ipython3",
   "version": "3.10.0"
  }
 },
 "nbformat": 4,
 "nbformat_minor": 2
}
